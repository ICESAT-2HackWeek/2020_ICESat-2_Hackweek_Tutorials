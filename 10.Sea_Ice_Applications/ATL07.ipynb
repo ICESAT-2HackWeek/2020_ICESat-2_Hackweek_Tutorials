{
 "cells": [
  {
   "cell_type": "markdown",
   "metadata": {},
   "source": [
    "# Exploring sea ice heights with ICESat-2 (ATL07)\n",
    "\n",
    "Information obtained primarily from the ATL07/10 Algorithm Theoretical Basis Document (ATBD, Kwok et al., 2019) and the NSIDC product description page: https://nsidc.org/data/atl07.   \n",
    "\n",
    "* Notebook author: Ellen Buckley, heavily based on 2019 Hackweek notebook by Alek Petty, and  relying extensively on above product manuals.    \n",
    "* Description: Notebook describing the ICESat-2 ATL07 product.   \n",
    "* Input requirements: Demo ATL07 and ATL03 data files imported from tutorials-data folder   \n",
    "* Date: June 2020\n",
    "* More info: at NSIDC https://nsidc.org/data/atl07 under the Technical References tab you'll see:\n",
    "    - ATL07/ATL10 Algorithm Theoretical Basis Document (ATBD)\n",
    "    - the data dictionary\n",
    "    - the known issues document\n",
    "\n",
    "**Please note that this notebook will not run in Binder without first uploading the required input data files.**\n",
    "\n",
    "## Notebook objectives\n",
    "* General understanding of the data included in a typical ATL07 file.\n",
    "* Reading in, plotting and basic analysis of ATL07 data.\n",
    "* How variables change with different surface types.\n",
    "* How clouds affect surface returns\n"
   ]
  },
  {
   "cell_type": "code",
   "execution_count": 1,
   "metadata": {},
   "outputs": [],
   "source": [
    "%matplotlib inline"
   ]
  },
  {
   "cell_type": "code",
   "execution_count": 2,
   "metadata": {},
   "outputs": [],
   "source": [
    "import warnings\n",
    "warnings.filterwarnings('ignore')\n",
    "import numpy as np\n",
    "import pandas as pd\n",
    "import datetime as dt\n",
    "import matplotlib.pyplot as plt\n",
    "import cartopy.crs as ccrs\n",
    "import h5py\n",
    "from scipy.interpolate import interp1d\n",
    "from astropy.time import Time\n",
    "import readers as rd"
   ]
  },
  {
   "cell_type": "markdown",
   "metadata": {},
   "source": [
    "## Select and Import Data"
   ]
  },
  {
   "cell_type": "markdown",
   "metadata": {},
   "source": [
    "#### Granule Selection\n",
    "\n",
    "Naming convention for ATL07 files: Instead of 14 regions, there are only 2: Northern Hemisphere (01), and Southern Hemisphere (02). For Northern Hemisphere products look for files that start with 'ATL07-01'\n",
    "\n",
    "'ATL07-[HH] _ [yyyymmdd][hhmmss] _ [ttttccss]_[vvv_rr].h5'\n",
    "\n",
    "'ATL07-01_20190324002217_13070201_003_02.h5'"
   ]
  },
  {
   "cell_type": "markdown",
   "metadata": {},
   "source": [
    "#### Import Data\n",
    "\n",
    "You can either get the data for this tutorial from the tutorial-data/sea-ice/ folder (at the hackweek) or download from NSIDC if you are running this on your local machine"
   ]
  },
  {
   "cell_type": "code",
   "execution_count": 3,
   "metadata": {},
   "outputs": [],
   "source": [
    "data_loc='./data/' # update to where you downloaded the data\n",
    "fname='ATL07-01_20190324002217_13070201_003_02.h5' # may have to change version number"
   ]
  },
  {
   "cell_type": "code",
   "execution_count": 4,
   "metadata": {},
   "outputs": [
    {
     "name": "stdout",
     "output_type": "stream",
     "text": [
      "0\n"
     ]
    }
   ],
   "source": [
    "f = h5py.File(data_loc+fname, 'r')\n",
    "#check to see if it is forward (1)  or backward (0) orientation to know which beam is strong/weak\n",
    "print(f['orbit_info/sc_orient'][0])"
   ]
  },
  {
   "cell_type": "markdown",
   "metadata": {},
   "source": [
    "We are in backward orientation, left beams are strong, right are weak. Here are the ATL07 parameters we are interested in using in this notebook:\n",
    "\n",
    "In Group: gtx/sea_ice_segments/\n",
    "* latitude\n",
    "* longitude\n",
    "* delta_time\n",
    "* seg_dist_x\n",
    "\n",
    "In Group: gtx/sea_ice_segments/heights/\n",
    "* height_segment_height\n",
    "* height_segment_confidence\n",
    "* height_segment_type\n",
    "* height_segment_ssh_flag\n",
    "* height_segment_w_gaussian\n",
    "\n",
    "In Group: gtx/sea_ice_segments/stats/\n",
    "* photon_rate\n",
    "* cloud_flag_asr\n",
    "\n",
    "In Group: gtx/sea_ice_segments/geophysical/\n",
    "* height_segment_lpe\n",
    "* height_segment_mss\n",
    "* height_segment_ocean\n",
    "* height_segment_ib\n"
   ]
  },
  {
   "cell_type": "markdown",
   "metadata": {},
   "source": [
    "Run the getATL07 function to read the data into a pandas dataframe."
   ]
  },
  {
   "cell_type": "code",
   "execution_count": 5,
   "metadata": {},
   "outputs": [
    {
     "data": {
      "text/html": [
       "<div>\n",
       "<style scoped>\n",
       "    .dataframe tbody tr th:only-of-type {\n",
       "        vertical-align: middle;\n",
       "    }\n",
       "\n",
       "    .dataframe tbody tr th {\n",
       "        vertical-align: top;\n",
       "    }\n",
       "\n",
       "    .dataframe thead th {\n",
       "        text-align: right;\n",
       "    }\n",
       "</style>\n",
       "<table border=\"1\" class=\"dataframe\">\n",
       "  <thead>\n",
       "    <tr style=\"text-align: right;\">\n",
       "      <th></th>\n",
       "      <th>lats</th>\n",
       "      <th>lons</th>\n",
       "      <th>heights</th>\n",
       "      <th>dt</th>\n",
       "      <th>conf</th>\n",
       "      <th>stype</th>\n",
       "      <th>ssh_flag</th>\n",
       "      <th>gauss</th>\n",
       "      <th>photon_rate</th>\n",
       "      <th>cloud</th>\n",
       "      <th>mss</th>\n",
       "      <th>ocean</th>\n",
       "      <th>lpe</th>\n",
       "      <th>ib</th>\n",
       "    </tr>\n",
       "  </thead>\n",
       "  <tbody>\n",
       "    <tr>\n",
       "      <th>0</th>\n",
       "      <td>76.481379</td>\n",
       "      <td>99.57747</td>\n",
       "      <td>3.402823e+38</td>\n",
       "      <td>3.862334e+07</td>\n",
       "      <td>3.402823e+38</td>\n",
       "      <td>1</td>\n",
       "      <td>0</td>\n",
       "      <td>3.402823e+38</td>\n",
       "      <td>3.402823e+38</td>\n",
       "      <td>3</td>\n",
       "      <td>-6.674923</td>\n",
       "      <td>-0.164509</td>\n",
       "      <td>-0.037621</td>\n",
       "      <td>0.042107</td>\n",
       "    </tr>\n",
       "    <tr>\n",
       "      <th>1</th>\n",
       "      <td>76.481379</td>\n",
       "      <td>99.57747</td>\n",
       "      <td>3.402823e+38</td>\n",
       "      <td>3.862334e+07</td>\n",
       "      <td>3.402823e+38</td>\n",
       "      <td>1</td>\n",
       "      <td>0</td>\n",
       "      <td>3.402823e+38</td>\n",
       "      <td>3.402823e+38</td>\n",
       "      <td>3</td>\n",
       "      <td>-6.674923</td>\n",
       "      <td>-0.164509</td>\n",
       "      <td>-0.037621</td>\n",
       "      <td>0.042107</td>\n",
       "    </tr>\n",
       "    <tr>\n",
       "      <th>2</th>\n",
       "      <td>76.481379</td>\n",
       "      <td>99.57747</td>\n",
       "      <td>3.402823e+38</td>\n",
       "      <td>3.862334e+07</td>\n",
       "      <td>3.402823e+38</td>\n",
       "      <td>1</td>\n",
       "      <td>0</td>\n",
       "      <td>3.402823e+38</td>\n",
       "      <td>3.402823e+38</td>\n",
       "      <td>3</td>\n",
       "      <td>-6.674923</td>\n",
       "      <td>-0.164509</td>\n",
       "      <td>-0.037621</td>\n",
       "      <td>0.042107</td>\n",
       "    </tr>\n",
       "    <tr>\n",
       "      <th>3</th>\n",
       "      <td>76.481379</td>\n",
       "      <td>99.57747</td>\n",
       "      <td>3.402823e+38</td>\n",
       "      <td>3.862334e+07</td>\n",
       "      <td>3.402823e+38</td>\n",
       "      <td>1</td>\n",
       "      <td>0</td>\n",
       "      <td>3.402823e+38</td>\n",
       "      <td>3.402823e+38</td>\n",
       "      <td>3</td>\n",
       "      <td>-6.674923</td>\n",
       "      <td>-0.164509</td>\n",
       "      <td>-0.037621</td>\n",
       "      <td>0.042107</td>\n",
       "    </tr>\n",
       "    <tr>\n",
       "      <th>4</th>\n",
       "      <td>76.481379</td>\n",
       "      <td>99.57747</td>\n",
       "      <td>3.402823e+38</td>\n",
       "      <td>3.862334e+07</td>\n",
       "      <td>3.402823e+38</td>\n",
       "      <td>1</td>\n",
       "      <td>0</td>\n",
       "      <td>3.402823e+38</td>\n",
       "      <td>3.402823e+38</td>\n",
       "      <td>3</td>\n",
       "      <td>-6.674923</td>\n",
       "      <td>-0.164509</td>\n",
       "      <td>-0.037621</td>\n",
       "      <td>0.042107</td>\n",
       "    </tr>\n",
       "  </tbody>\n",
       "</table>\n",
       "</div>"
      ],
      "text/plain": [
       "        lats      lons       heights            dt          conf  stype  \\\n",
       "0  76.481379  99.57747  3.402823e+38  3.862334e+07  3.402823e+38      1   \n",
       "1  76.481379  99.57747  3.402823e+38  3.862334e+07  3.402823e+38      1   \n",
       "2  76.481379  99.57747  3.402823e+38  3.862334e+07  3.402823e+38      1   \n",
       "3  76.481379  99.57747  3.402823e+38  3.862334e+07  3.402823e+38      1   \n",
       "4  76.481379  99.57747  3.402823e+38  3.862334e+07  3.402823e+38      1   \n",
       "\n",
       "   ssh_flag         gauss   photon_rate  cloud       mss     ocean       lpe  \\\n",
       "0         0  3.402823e+38  3.402823e+38      3 -6.674923 -0.164509 -0.037621   \n",
       "1         0  3.402823e+38  3.402823e+38      3 -6.674923 -0.164509 -0.037621   \n",
       "2         0  3.402823e+38  3.402823e+38      3 -6.674923 -0.164509 -0.037621   \n",
       "3         0  3.402823e+38  3.402823e+38      3 -6.674923 -0.164509 -0.037621   \n",
       "4         0  3.402823e+38  3.402823e+38      3 -6.674923 -0.164509 -0.037621   \n",
       "\n",
       "         ib  \n",
       "0  0.042107  \n",
       "1  0.042107  \n",
       "2  0.042107  \n",
       "3  0.042107  \n",
       "4  0.042107  "
      ]
     },
     "execution_count": 5,
     "metadata": {},
     "output_type": "execute_result"
    }
   ],
   "source": [
    "beam='gt1l'\n",
    "df07= rd.getATL07(f,beam)\n",
    "df07.head()"
   ]
  },
  {
   "cell_type": "markdown",
   "metadata": {},
   "source": [
    "Use the getATL03 function from the readers script to read in the ATL03 data from the same RGT."
   ]
  },
  {
   "cell_type": "code",
   "execution_count": 6,
   "metadata": {},
   "outputs": [
    {
     "ename": "OSError",
     "evalue": "Unable to open file (unable to open file: name = './data/ATL03_20190324004315_13070204_003_01.h5', errno = 2, error message = 'No such file or directory', flags = 0, o_flags = 0)",
     "output_type": "error",
     "traceback": [
      "\u001b[0;31m---------------------------------------------------------------------------\u001b[0m",
      "\u001b[0;31mOSError\u001b[0m                                   Traceback (most recent call last)",
      "\u001b[0;32m<ipython-input-6-4b1fe96bfc19>\u001b[0m in \u001b[0;36m<module>\u001b[0;34m\u001b[0m\n\u001b[1;32m      1\u001b[0m \u001b[0mfname\u001b[0m\u001b[0;34m=\u001b[0m\u001b[0;34m'ATL03_20190324004315_13070204_003_01.h5'\u001b[0m\u001b[0;34m\u001b[0m\u001b[0;34m\u001b[0m\u001b[0m\n\u001b[0;32m----> 2\u001b[0;31m \u001b[0mf\u001b[0m \u001b[0;34m=\u001b[0m \u001b[0mh5py\u001b[0m\u001b[0;34m.\u001b[0m\u001b[0mFile\u001b[0m\u001b[0;34m(\u001b[0m\u001b[0mdata_loc\u001b[0m\u001b[0;34m+\u001b[0m\u001b[0mfname\u001b[0m\u001b[0;34m,\u001b[0m \u001b[0;34m'r'\u001b[0m\u001b[0;34m)\u001b[0m\u001b[0;34m\u001b[0m\u001b[0;34m\u001b[0m\u001b[0m\n\u001b[0m\u001b[1;32m      3\u001b[0m \u001b[0mbeam\u001b[0m\u001b[0;34m=\u001b[0m\u001b[0;34m'gt1l'\u001b[0m\u001b[0;34m\u001b[0m\u001b[0;34m\u001b[0m\u001b[0m\n\u001b[1;32m      4\u001b[0m \u001b[0mdf03\u001b[0m\u001b[0;34m=\u001b[0m\u001b[0mrd\u001b[0m\u001b[0;34m.\u001b[0m\u001b[0mgetATL03\u001b[0m\u001b[0;34m(\u001b[0m\u001b[0mf\u001b[0m\u001b[0;34m,\u001b[0m \u001b[0mbeam\u001b[0m\u001b[0;34m)\u001b[0m\u001b[0;34m\u001b[0m\u001b[0;34m\u001b[0m\u001b[0m\n\u001b[1;32m      5\u001b[0m \u001b[0mdf03\u001b[0m\u001b[0;34m.\u001b[0m\u001b[0mhead\u001b[0m\u001b[0;34m(\u001b[0m\u001b[0;34m)\u001b[0m\u001b[0;34m\u001b[0m\u001b[0;34m\u001b[0m\u001b[0m\n",
      "\u001b[0;32m/srv/conda/envs/notebook/lib/python3.7/site-packages/h5py/_hl/files.py\u001b[0m in \u001b[0;36m__init__\u001b[0;34m(self, name, mode, driver, libver, userblock_size, swmr, rdcc_nslots, rdcc_nbytes, rdcc_w0, track_order, **kwds)\u001b[0m\n\u001b[1;32m    406\u001b[0m                 fid = make_fid(name, mode, userblock_size,\n\u001b[1;32m    407\u001b[0m                                \u001b[0mfapl\u001b[0m\u001b[0;34m,\u001b[0m \u001b[0mfcpl\u001b[0m\u001b[0;34m=\u001b[0m\u001b[0mmake_fcpl\u001b[0m\u001b[0;34m(\u001b[0m\u001b[0mtrack_order\u001b[0m\u001b[0;34m=\u001b[0m\u001b[0mtrack_order\u001b[0m\u001b[0;34m)\u001b[0m\u001b[0;34m,\u001b[0m\u001b[0;34m\u001b[0m\u001b[0;34m\u001b[0m\u001b[0m\n\u001b[0;32m--> 408\u001b[0;31m                                swmr=swmr)\n\u001b[0m\u001b[1;32m    409\u001b[0m \u001b[0;34m\u001b[0m\u001b[0m\n\u001b[1;32m    410\u001b[0m             \u001b[0;32mif\u001b[0m \u001b[0misinstance\u001b[0m\u001b[0;34m(\u001b[0m\u001b[0mlibver\u001b[0m\u001b[0;34m,\u001b[0m \u001b[0mtuple\u001b[0m\u001b[0;34m)\u001b[0m\u001b[0;34m:\u001b[0m\u001b[0;34m\u001b[0m\u001b[0;34m\u001b[0m\u001b[0m\n",
      "\u001b[0;32m/srv/conda/envs/notebook/lib/python3.7/site-packages/h5py/_hl/files.py\u001b[0m in \u001b[0;36mmake_fid\u001b[0;34m(name, mode, userblock_size, fapl, fcpl, swmr)\u001b[0m\n\u001b[1;32m    171\u001b[0m         \u001b[0;32mif\u001b[0m \u001b[0mswmr\u001b[0m \u001b[0;32mand\u001b[0m \u001b[0mswmr_support\u001b[0m\u001b[0;34m:\u001b[0m\u001b[0;34m\u001b[0m\u001b[0;34m\u001b[0m\u001b[0m\n\u001b[1;32m    172\u001b[0m             \u001b[0mflags\u001b[0m \u001b[0;34m|=\u001b[0m \u001b[0mh5f\u001b[0m\u001b[0;34m.\u001b[0m\u001b[0mACC_SWMR_READ\u001b[0m\u001b[0;34m\u001b[0m\u001b[0;34m\u001b[0m\u001b[0m\n\u001b[0;32m--> 173\u001b[0;31m         \u001b[0mfid\u001b[0m \u001b[0;34m=\u001b[0m \u001b[0mh5f\u001b[0m\u001b[0;34m.\u001b[0m\u001b[0mopen\u001b[0m\u001b[0;34m(\u001b[0m\u001b[0mname\u001b[0m\u001b[0;34m,\u001b[0m \u001b[0mflags\u001b[0m\u001b[0;34m,\u001b[0m \u001b[0mfapl\u001b[0m\u001b[0;34m=\u001b[0m\u001b[0mfapl\u001b[0m\u001b[0;34m)\u001b[0m\u001b[0;34m\u001b[0m\u001b[0;34m\u001b[0m\u001b[0m\n\u001b[0m\u001b[1;32m    174\u001b[0m     \u001b[0;32melif\u001b[0m \u001b[0mmode\u001b[0m \u001b[0;34m==\u001b[0m \u001b[0;34m'r+'\u001b[0m\u001b[0;34m:\u001b[0m\u001b[0;34m\u001b[0m\u001b[0;34m\u001b[0m\u001b[0m\n\u001b[1;32m    175\u001b[0m         \u001b[0mfid\u001b[0m \u001b[0;34m=\u001b[0m \u001b[0mh5f\u001b[0m\u001b[0;34m.\u001b[0m\u001b[0mopen\u001b[0m\u001b[0;34m(\u001b[0m\u001b[0mname\u001b[0m\u001b[0;34m,\u001b[0m \u001b[0mh5f\u001b[0m\u001b[0;34m.\u001b[0m\u001b[0mACC_RDWR\u001b[0m\u001b[0;34m,\u001b[0m \u001b[0mfapl\u001b[0m\u001b[0;34m=\u001b[0m\u001b[0mfapl\u001b[0m\u001b[0;34m)\u001b[0m\u001b[0;34m\u001b[0m\u001b[0;34m\u001b[0m\u001b[0m\n",
      "\u001b[0;32mh5py/_objects.pyx\u001b[0m in \u001b[0;36mh5py._objects.with_phil.wrapper\u001b[0;34m()\u001b[0m\n",
      "\u001b[0;32mh5py/_objects.pyx\u001b[0m in \u001b[0;36mh5py._objects.with_phil.wrapper\u001b[0;34m()\u001b[0m\n",
      "\u001b[0;32mh5py/h5f.pyx\u001b[0m in \u001b[0;36mh5py.h5f.open\u001b[0;34m()\u001b[0m\n",
      "\u001b[0;31mOSError\u001b[0m: Unable to open file (unable to open file: name = './data/ATL03_20190324004315_13070204_003_01.h5', errno = 2, error message = 'No such file or directory', flags = 0, o_flags = 0)"
     ]
    }
   ],
   "source": [
    "fname='ATL03_20190324004315_13070204_003_01.h5'\n",
    "f = h5py.File(data_loc+fname, 'r')\n",
    "beam='gt1l'\n",
    "df03=rd.getATL03(f, beam)\n",
    "df03.head()"
   ]
  },
  {
   "cell_type": "markdown",
   "metadata": {},
   "source": [
    "## Surface type classification\n",
    "\n",
    "First we want to look at the surface type classifications in ATL07 and demonstrate how the classification algorithm works.\n",
    "\n",
    "Surface type parameter: Value that indicates segment surface type as sea ice or different types of sea surface. \n",
    "\n",
    " 0 cloud_covered \n",
    " \n",
    " 1 other (sea ice)\n",
    " \n",
    " 2-5 specular lead : high photon rates\n",
    "\n",
    " 6-9 dark lead : low/medium photon rate but narrow surface height distribution"
   ]
  },
  {
   "cell_type": "markdown",
   "metadata": {},
   "source": [
    "#### Cut to smaller region\n",
    "Using the same method as before to look at a shorter section."
   ]
  },
  {
   "cell_type": "code",
   "execution_count": null,
   "metadata": {},
   "outputs": [],
   "source": [
    "lonmin,lonmax,latmin,latmax= [-60,0,85.52,85.57]\n",
    "region=(df07.lats>latmin)&(df07.lats<latmax)&(df07.lons>lonmin)&(df07.lons<lonmax)\n",
    "df07_cut=df07[region]\n",
    "# cut df03 to region of interest\n",
    "region=(df03.lats>latmin)&(df03.lats<latmax)&(df03.lons>lonmin)&(df03.lons<lonmax)\n",
    "df03_cut=df03[region]"
   ]
  },
  {
   "cell_type": "markdown",
   "metadata": {},
   "source": [
    "#### Apply vertical corrections to ATL03\n",
    "A number of corrections are applied to the between ATL03 heights and ATL07 heights. To compare ATL03 and ATL07 we apply these corrections to the ATL03 data so that it has the same vertical reference as ATL07. \n",
    "\n",
    "We interpolate the correction values from the ATL07 parameters to the ATL03 alongtrack distance. Then we subtract those corrections from the ATL03 heights to compare with ATL07 heights. "
   ]
  },
  {
   "cell_type": "code",
   "execution_count": null,
   "metadata": {},
   "outputs": [],
   "source": [
    "# mean sea surface correction\n",
    "mss_corr=interp1d(df07.dt.values,df07.mss.values)\n",
    "# inverted barometer correction\n",
    "ib_corr=interp1d(df07.dt.values,df07.ib.values)\n",
    "# ocean tide correction\n",
    "ocean_corr=interp1d(df07.dt.values,df07.ocean.values)\n",
    "# long period equilibrium tide correction\n",
    "lpe_corr=interp1d(df07.dt.values,df07.lpe.values)\n",
    "\n",
    "df03_cut['correction']=mss_corr(df03_cut.dt.values)+ib_corr(df03_cut.dt.values)+ocean_corr(df03_cut.dt.values)+lpe_corr(df03_cut.dt.values)\n",
    "df03_cut['height_corr']=df03_cut.heights-df03_cut.correction\n",
    "df03_cut.head()\n"
   ]
  },
  {
   "cell_type": "markdown",
   "metadata": {},
   "source": [
    "#### Map the region\n",
    "Let's show the area that we are working with first:"
   ]
  },
  {
   "cell_type": "code",
   "execution_count": null,
   "metadata": {},
   "outputs": [],
   "source": [
    "var= 'stype' \n",
    "\n",
    "## we will want to set colorbar parameters based on the chosen variable\n",
    "vmin=0\n",
    "vmax=10\n",
    "ticks=np.arange(vmin,vmax,1)\n",
    "\n",
    "plt.figure(figsize=(8,8), dpi= 90)\n",
    "ax = plt.axes(projection=ccrs.NorthPolarStereo(central_longitude=-50)) # choose polar sterographic for projection\n",
    "ax.coastlines(resolution='50m', color='black', linewidth=1)\n",
    "ax.set_extent([-80,-40,80,86], ccrs.PlateCarree())\n",
    "plt.scatter(df07_cut['lons'][::100], df07_cut['lats'][::100],c=df07_cut[var][::100], cmap=plt.cm.get_cmap('RdYlGn').reversed(), vmin=vmin,vmax=vmax,transform=ccrs.PlateCarree())\n",
    "plt.colorbar(label=var, shrink=0.5, ticks=ticks,extend='both');"
   ]
  },
  {
   "cell_type": "markdown",
   "metadata": {},
   "source": [
    "#### Subplots showing relationship between variables\n",
    "Here I wanted to show the relationship between different parameters and surface type classification. The surface type classification for ATL07 segments is based on the surface photon rate, the background rate and the width of the surface photon distribution. After the radiometric classification of the surface step, a final step looks at the heights of the ATL07 segment, and ensures it is in the lowest 2% of the distribution of all segment heights wihtin 200km section, which in the case it is. So the sea surface height flag value is 1 (sea surface).\n",
    "* Plot 1: Photon rate\n",
    "* Plot 2: Gaussian width\n",
    "* Plot 3: The ATL07 surface flag is 3: specular lead.\n",
    "* Plot 4: The ATL07 sea ice segment heights on top of the ATL03 photon cloud. \n",
    "* Plot 5: Sea surface height flag. "
   ]
  },
  {
   "cell_type": "code",
   "execution_count": null,
   "metadata": {},
   "outputs": [],
   "source": [
    "fig,ax=plt.subplots(5,1,figsize=(15,20))\n",
    "\n",
    "ax[0].scatter(df07_cut.lats,df07_cut.photon_rate,s=2,c='gray', label='ATL07 all surface type')\n",
    "ax[0].scatter(df07_cut[df07_cut.stype>1].lats,df07_cut[df07_cut.stype>1].photon_rate,s=10,c='b', label= 'ATL07 surface type lead')\n",
    "ax[0].legend(fontsize=15)\n",
    "ax[0].set_ylim(0,20)\n",
    "ax[0].set_ylabel('ATL07 \\nphoton rate',fontsize=15)\n",
    "\n",
    "ax[1].scatter(df07_cut.lats,df07_cut.gauss,s=2,c='gray', label='ATL07 all surface type')\n",
    "ax[1].scatter(df07_cut[df07_cut.stype>1].lats,df07_cut[df07_cut.stype>1].gauss,s=10,c='blue',label= 'ATL07 surface type lead')\n",
    "ax[1].legend(loc=1,fontsize=15)\n",
    "ax[1].set_ylabel('ATL07 \\ngaussian width',fontsize=15)\n",
    "ax[1].set_ylim(0,.6)\n",
    "\n",
    "ax[2].grid()\n",
    "ax[2].scatter(df07_cut.lats,df07_cut.stype,s=2,c='gray',label='ATL07 all surface type')\n",
    "ax[2].scatter(df07_cut[df07_cut.stype>1].lats,df07_cut[df07_cut.stype>1].stype,s=10,c='blue',label= 'ATL07 surface type lead')\n",
    "ax[2].legend(fontsize=15)\n",
    "ax[2].set_ylim(-1,10)\n",
    "ax[2].set_ylabel('ATL07 \\nsurface type',fontsize=15)\n",
    "ax[2].set_yticks(np.arange(0,10,1))\n",
    "\n",
    "ax[3].scatter(df03_cut.lats[df03_cut.conf<3],df03_cut.height_corr[df03_cut.conf<3],c='r',s=.5,alpha=.3)\n",
    "ax[3].scatter(df03_cut.lats[df03_cut.conf>2],df03_cut.height_corr[df03_cut.conf>2],c='g',s=.5,alpha=.3)\n",
    "ax[3].scatter(0,0,c='g',s=5,alpha=1, label = 'ATL03 med/high conf')\n",
    "ax[3].scatter(0,0,c='r',s=5,alpha=1, label= \"ATL03 low conf\")\n",
    "\n",
    "ax[3].scatter(df07_cut.lats,df07_cut.heights,marker='s',s=5,c='k',alpha=.5, label= 'ATL07 heights')\n",
    "ax[3].scatter(df07_cut[df07_cut.stype>1].lats,df07_cut[df07_cut.stype>1].heights,marker='s',s=10,c='b', label= 'ATL07 surface type lead')\n",
    "ax[3].legend(ncol=2, loc=4,fontsize=15)\n",
    "ax[3].set_ylim(-1,2)\n",
    "ax[3].set_ylabel('ATL03 and ATL07 \\nsurface heights',fontsize=15)\n",
    "\n",
    "ax[4].scatter(df07_cut.lats,df07_cut.ssh_flag,c='k',s=2,marker='.',label='ATL07 all surface type')\n",
    "ax[4].scatter(df07_cut[df07_cut.stype>1].lats,df07_cut[df07_cut.stype>1].ssh_flag,c='b',s=10,label='ATL07 surface type lead')\n",
    "ax[4].legend(fontsize=15)\n",
    "ax[4].grid()\n",
    "ax[4].set_ylim(-1,2)\n",
    "ax[4].set_yticks(np.arange(0,2,1))\n",
    "ax[4].set_yticklabels(['sea ice', 'sea surface'],fontsize=12)\n",
    "ax[4].set_ylabel('ATL07 ssh flag',fontsize=15)\n",
    "\n",
    "ax[4].set_xlabel('latitude',fontsize=15)\n",
    "\n",
    "for a in np.arange(0,5):\n",
    "    ax[a].set_xlim(latmin,latmax)\n",
    "    ax[a].axvline(df07_cut[df07_cut.ssh_flag==1].lats.values[0],c='y',alpha=.2, linewidth=10)\n",
    "\n"
   ]
  },
  {
   "cell_type": "markdown",
   "metadata": {},
   "source": [
    "## Impact of Clouds on Data\n",
    "\n",
    "Here we are looking at the cloud flag. This is a useful parameter if you want to filter the data. We investigate a section of data that transitions from clear to cloudy and see how that impacts the parameters in ATL07 and ATL03."
   ]
  },
  {
   "cell_type": "code",
   "execution_count": null,
   "metadata": {},
   "outputs": [],
   "source": [
    "data_loc='./data/' # update to where you downloaded the data\n",
    "fname='ATL07-01_20190430080720_04900301_003_01.h5'"
   ]
  },
  {
   "cell_type": "code",
   "execution_count": null,
   "metadata": {},
   "outputs": [],
   "source": [
    "f = h5py.File(data_loc+fname, 'r')\n",
    "# check to see if it is forward (1)  or backward (0) orientation to know which beam is strong/weak\n",
    "# (2 is transition phase- don't use these data)\n",
    "print(f['orbit_info/sc_orient'][0])"
   ]
  },
  {
   "cell_type": "code",
   "execution_count": null,
   "metadata": {},
   "outputs": [],
   "source": [
    "beam='gt1l'\n",
    "df07=rd.getATL07(f,beam)\n",
    "df07.head()"
   ]
  },
  {
   "cell_type": "markdown",
   "metadata": {},
   "source": [
    "#### Map cloud data"
   ]
  },
  {
   "cell_type": "code",
   "execution_count": null,
   "metadata": {},
   "outputs": [],
   "source": [
    "var= 'cloud' #choose which variable we want to plot\n",
    "\n",
    "## we will want to set colorbar parameters based on the chosen variable\n",
    "vmin=0\n",
    "vmax=6\n",
    "ticks=np.arange(vmin,vmax+1,1)\n",
    "\n",
    "plt.figure(figsize=(8,8), dpi= 90)\n",
    "ax = plt.axes(projection=ccrs.NorthPolarStereo(central_longitude=0)) # choose polar sterographic for projection\n",
    "ax.coastlines(resolution='50m', color='black', linewidth=1)\n",
    "ax.set_extent([-180, 180, 60, 90], ccrs.PlateCarree())\n",
    "plt.scatter(df07['lons'][::100], df07['lats'][::100],c=df07[var][::100], cmap='viridis', vmin=vmin,vmax=vmax,transform=ccrs.PlateCarree())#plt.cm.get_cmap('RdYlGn').reversed()\n",
    "plt.colorbar(label=var, shrink=0.5, ticks=ticks,extend='both');"
   ]
  },
  {
   "cell_type": "markdown",
   "metadata": {},
   "source": [
    "The cloud parameter ranges from 0 to 6 and is from the ATL09 atmosphere product:\n",
    "* 0: high confidence clear\n",
    "* 1: medium confidence clear\n",
    "* 2: low confidence clear\n",
    "* 3: low confidence cloudy\n",
    "* 4: medium confidence cloudy\n",
    "* 5: high confidence cloudy\n",
    "* 6: unknown"
   ]
  },
  {
   "cell_type": "markdown",
   "metadata": {},
   "source": [
    "#### How do clouds affect parameters?\n",
    "We will look at the photon rate parameter. The average number of photons returned per shot over a segment.We are looking at a smaller region that has cloudy and clear data."
   ]
  },
  {
   "cell_type": "code",
   "execution_count": null,
   "metadata": {},
   "outputs": [],
   "source": [
    "# cut to region that has clear and cloudy data\n",
    "lonmin,lonmax,latmin,latmax= [170,180,85.6,86]\n",
    "region=(df07.lats>latmin)&(df07.lats<latmax)&(df07.lons>lonmin)&(df07.lons<lonmax)\n",
    "df07_cut=df07[region]"
   ]
  },
  {
   "cell_type": "code",
   "execution_count": null,
   "metadata": {},
   "outputs": [],
   "source": [
    "var= 'cloud' #choose which variable we want to plot\n",
    "\n",
    "## we will want to set colorbar parameters based on the chosen variable\n",
    "vmin=0\n",
    "vmax=6\n",
    "ticks=np.arange(vmin,vmax+1,1)\n",
    "\n",
    "\n",
    "plt.figure(figsize=(8,8), dpi= 90)\n",
    "ax = plt.axes(projection=ccrs.NorthPolarStereo(central_longitude=0)) # choose polar sterographic for projection\n",
    "ax.coastlines(resolution='50m', color='black', linewidth=1)\n",
    "ax.set_extent([-180, 180, 70, 90], ccrs.PlateCarree())\n",
    "plt.scatter(df07_cut['lons'][::10], df07_cut['lats'][::10],c=df07_cut[var][::10], cmap='viridis', vmin=vmin,vmax=vmax,transform=ccrs.PlateCarree())\n",
    "plt.colorbar(label=var, shrink=0.5, ticks=ticks,extend='neither');"
   ]
  },
  {
   "cell_type": "markdown",
   "metadata": {},
   "source": [
    "#### Compare cloud flag and photon rate variables"
   ]
  },
  {
   "cell_type": "code",
   "execution_count": null,
   "metadata": {},
   "outputs": [],
   "source": [
    "fig,ax=plt.subplots(2,1,figsize=(15,7))\n",
    "ax[0].scatter(df07_cut.lats,df07_cut.cloud, s=5, c='b')\n",
    "ax[0].set_ylabel('cloudiness -->',fontsize=15)\n",
    "ax[0].set_ylim(-1,6)\n",
    "ax[0].set_xlim(min(df07_cut.lats),max(df07_cut.lats))\n",
    "ax[1].scatter(df07_cut.lats,df07_cut.photon_rate, s=5, c='k')\n",
    "ax[1].set_ylim(0,20)\n",
    "ax[1].set_xlim(min(df07_cut.lats),max(df07_cut.lats))\n",
    "ax[1].set_ylabel('photon rate',fontsize=15)\n",
    "ax[1].set_xlabel('latitude',fontsize=15)"
   ]
  },
  {
   "cell_type": "markdown",
   "metadata": {},
   "source": [
    "You can see as the cloudiness increases from low/med confidence clear to high confidence cloudy, the photon rate drops."
   ]
  },
  {
   "cell_type": "markdown",
   "metadata": {},
   "source": [
    "#### Lets look at how clouds affect the ATL03 data"
   ]
  },
  {
   "cell_type": "code",
   "execution_count": null,
   "metadata": {},
   "outputs": [],
   "source": [
    "fname='ATL03_20190430082817_04900304_003_01.h5'"
   ]
  },
  {
   "cell_type": "code",
   "execution_count": null,
   "metadata": {},
   "outputs": [],
   "source": [
    "f = h5py.File(data_loc+fname, 'r')\n",
    "beam='gt1l'"
   ]
  },
  {
   "cell_type": "markdown",
   "metadata": {},
   "source": [
    "Use the getATL03 function to bring in the relevant ATL03 data into a pandas dataframe"
   ]
  },
  {
   "cell_type": "code",
   "execution_count": null,
   "metadata": {},
   "outputs": [],
   "source": [
    "df03=rd.getATL03(f,beam)\n",
    "df03.head()"
   ]
  },
  {
   "cell_type": "code",
   "execution_count": null,
   "metadata": {},
   "outputs": [],
   "source": [
    "# cut df03 to region of interest\n",
    "region=(df03.lats>latmin)&(df03.lats<latmax)&(df03.lons>lonmin)&(df03.lons<lonmax)\n",
    "df03_cut=df03[region]"
   ]
  },
  {
   "cell_type": "markdown",
   "metadata": {},
   "source": [
    "Now we plot latitudinal sections that show the relationship between ATL07 cloudiness, photon rate, and the ATL03 surface heights"
   ]
  },
  {
   "cell_type": "code",
   "execution_count": null,
   "metadata": {},
   "outputs": [],
   "source": [
    "fig,ax=plt.subplots(3,1,figsize=(15,10))\n",
    "ax[0].scatter(df07_cut.lats,df07_cut.cloud, s=5,c='b')\n",
    "ax[0].set_ylabel('ATL07 cloudiness -->',fontsize=15)\n",
    "ax[0].set_xlim(min(df07_cut.lats),max(df07_cut.lats))\n",
    "ax[1].scatter(df07_cut.lats,df07_cut.photon_rate, s=5,c='k')\n",
    "ax[1].set_ylim(0,20)\n",
    "ax[1].set_xlim(min(df07_cut.lats),max(df07_cut.lats))\n",
    "ax[1].set_ylabel('ATL07 photon rate',fontsize=15)\n",
    "ax[2].scatter(df03_cut.lats[df03_cut.conf<3],df03_cut.heights[df03_cut.conf<3],c='r',s=.1,alpha=.5)\n",
    "ax[2].scatter(df03_cut.lats[df03_cut.conf>2],df03_cut.heights[df03_cut.conf>2],c='g',s=.1,alpha=.5)\n",
    "ax[2].set_ylim(0,20)\n",
    "ax[2].set_xlim(min(df07_cut.lats),max(df07_cut.lats))\n",
    "ax[2].set_ylabel('ATL03 surface heights',fontsize=15)\n",
    "ax[2].set_xlabel('latitude', fontsize=15);"
   ]
  },
  {
   "cell_type": "markdown",
   "metadata": {},
   "source": [
    "Also note in this section you can see the solar background photons above and below the surface."
   ]
  },
  {
   "cell_type": "markdown",
   "metadata": {},
   "source": [
    "#### Zoom into that transition from clear to cloudy"
   ]
  },
  {
   "cell_type": "code",
   "execution_count": null,
   "metadata": {},
   "outputs": [],
   "source": [
    "lonmin,lonmax,latmin,latmax= [170,180,85.84,85.9]\n",
    "region=(df07.lats>latmin)&(df07.lats<latmax)&(df07.lons>lonmin)&(df07.lons<lonmax)\n",
    "df07_cut=df07[region]\n",
    "# cut df03 to region of interest\n",
    "region=(df03.lats>latmin)&(df03.lats<latmax)&(df03.lons>lonmin)&(df03.lons<lonmax)\n",
    "df03_cut=df03[region]"
   ]
  },
  {
   "cell_type": "code",
   "execution_count": null,
   "metadata": {},
   "outputs": [],
   "source": [
    "fig,ax=plt.subplots(3,1,figsize=(15,10))\n",
    "ax[0].scatter(df07_cut.lats,df07_cut.cloud, s=5,c='b')\n",
    "ax[0].set_ylabel('ATL07 cloudiness -->',fontsize=15)\n",
    "ax[0].set_ylim(-1,6)\n",
    "ax[0].set_xlim(min(df07_cut.lats),max(df07_cut.lats))\n",
    "ax[1].scatter(df07_cut.lats,df07_cut.photon_rate, s=5,c='k')\n",
    "ax[1].set_ylim(0,20)\n",
    "ax[1].set_ylabel('ATL07 photon rate',fontsize=15)\n",
    "ax[1].set_xlim(min(df07_cut.lats),max(df07_cut.lats))\n",
    "ax[2].scatter(df03_cut.lats[df03_cut.conf<3],df03_cut.heights[df03_cut.conf<3],c='r',s=.1,alpha=.5)\n",
    "ax[2].scatter(df03_cut.lats[df03_cut.conf>2],df03_cut.heights[df03_cut.conf>2],c='g',s=.1,alpha=.5)\n",
    "ax[2].set_ylim(5,15)\n",
    "ax[2].set_xlim(min(df07_cut.lats),max(df07_cut.lats))\n",
    "ax[2].set_ylabel('ATL03 surface heights',fontsize=15)\n",
    "ax[2].set_xlabel('latitude', fontsize=15);"
   ]
  },
  {
   "cell_type": "code",
   "execution_count": null,
   "metadata": {},
   "outputs": [],
   "source": []
  }
 ],
 "metadata": {
  "kernelspec": {
   "display_name": "Python [conda env:notebook] *",
   "language": "python",
   "name": "conda-env-notebook-py"
  },
  "language_info": {
   "codemirror_mode": {
    "name": "ipython",
    "version": 3
   },
   "file_extension": ".py",
   "mimetype": "text/x-python",
   "name": "python",
   "nbconvert_exporter": "python",
   "pygments_lexer": "ipython3",
   "version": "3.7.6"
  }
 },
 "nbformat": 4,
 "nbformat_minor": 4
}
