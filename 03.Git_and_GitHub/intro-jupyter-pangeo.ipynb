{
 "cells": [
  {
   "cell_type": "markdown",
   "metadata": {},
   "source": [
    "# Jupyter and Pangeo - Interactive Computing and Data Science\n",
    "\n",
    "In this short section, we'll provide a brief overview of the tools we'll be using from [Project Jupyter](https://jupyter.org).  We will present this live on the tutorial from a more interactive slide deck, but these notes may be useful as a reading reference.\n",
    "\n",
    "In brief, Jupyter provides a variety of tools to help you explore your data and computational worfklows _interactively_, that is in a context where you use a programming language (Python in our case) to execute (typically small amounts of) code and immediately view the results, informing your next steps where new code is executed. This process, inherently iterative and exploratory, is a natural fit for scientific research and commonly available in many environments like Matlab, IDL, Mathematica and more. \n",
    "\n",
    "Jupyter brings a set of open standards and tools to this space: it supports over 100 programming languages, provides interfaces that let you use this workflow similarly on your laptop or on a remote system (like the cloud or a supercomputer), and has a rich ecosystem of related and supporting tools.\n",
    "\n",
    "Later we'll dive deeper into the Jupyter tools, for now we're going to quickly cover enough of our two key ones to make sure you find your bearings in this tutorial, which focuses on Git and GitHub.\n",
    "\n",
    "## JupyterHub and Pangeo\n",
    "\n",
    "While you can install the Jupyter tools to run on your laptop, we will instead run them on a cloud computing environment that offers scalable computational resources as well as close proximity to the data we want to use. Instead of all of you having to download lots of data each, we can spin up virtual computers in the cloud pre-configured with all the same tools and packages you'd need locally, in close proximity (in a network sense) to the data.\n",
    "\n",
    "[JupyterHub](https://jupyter.org/hub) is the tool in Jupyter that helps us do this: it is a multi-user server that lets us easily host Jupyter and other interactive data science tools (such as R Studio) under one \"web roof\".\n",
    "\n",
    "<img src=\"images/jupyterhub-logo.svg\" width=\"300px\">\n",
    "\n",
    "[Pangeo](https://pangeo.io) is a project that combines JupyterHub with:\n",
    "\n",
    "* [Dask](https://dask.org): high-level distributed computing, giving us scalability.\n",
    "* [xarray](https://xarray.pydata.org): numerical computing on n-dimensional labeled arrays (NetCDF model).\n",
    "\n",
    "and it provides an effective community platform for big data (geo)science.\n",
    "\n",
    "When you go to our pangeo hub at https://icesat-2.hackweek.io, you should see this:\n",
    "\n",
    "<img src=\"images/pangeo-login.png\" width=\"90%\">\n",
    "\n",
    "after logging in with your GitHub credentials, you should get:\n",
    "\n",
    "<img src=\"images/pangeo-server.png\" width=\"90%\">\n",
    "\n",
    "Once you click on the red \"Start\" button, something like this should come up:\n",
    "\n",
    "<img src=\"images/jupyterlab-00.png\" width=\"90%\">\n",
    "\n",
    "## Pause: anyone with login issues?"
   ]
  },
  {
   "cell_type": "markdown",
   "metadata": {},
   "source": [
    "# Jupyter Lab Basics\n",
    "\n",
    "JupyterLab is a locally- or cloud-based environment for interactive computing, that lets you create Jupyter Notebooks but has many more tools and capabilities.  We will dive into more detail in our next tutorial, but for now let's see a brief rundown of its structure so you can get oriented.\n",
    "\n",
    "This is what JupyterLab looks like upon startup:\n",
    "\n",
    "<img src=\"images/jupyterlab-01.png\" width=\"90%\">\n",
    "\n",
    "And this is JupyterLab with a number of tools open:\n",
    "\n",
    "<img src=\"images/jupyterlab-02.png\" width=\"90%\">"
   ]
  },
  {
   "cell_type": "markdown",
   "metadata": {},
   "source": [
    "Now, we will grab our tutorial materials! They are located in [this GitHub repository](https://github.com/ICESAT-2HackWeek/intro-git).\n",
    "\n",
    "First, open a terminal in JupyterLab, and in that terminal type:\n",
    "\n",
    "```bash\n",
    "git clone https://github.com/ICESAT-2HackWeek/intro-git.git\n",
    "``` \n",
    "\n",
    "You should see something like the following, with the new folder containing the tutorial appearing a few seconds later in the left sidebar:\n",
    "\n",
    "<img src=\"images/jupyterlab-git-clone.png\" width=\"90%\">"
   ]
  }
 ],
 "metadata": {
  "kernelspec": {
   "display_name": "Python 3",
   "language": "python",
   "name": "python3"
  },
  "language_info": {
   "codemirror_mode": {
    "name": "ipython",
    "version": 3
   },
   "file_extension": ".py",
   "mimetype": "text/x-python",
   "name": "python",
   "nbconvert_exporter": "python",
   "pygments_lexer": "ipython3",
   "version": "3.7.6"
  }
 },
 "nbformat": 4,
 "nbformat_minor": 4
}
