{
 "cells": [
  {
   "cell_type": "markdown",
   "metadata": {},
   "source": [
    "## Basic example of how to bin along-track ICESat-2 sea ice data, as requeated during the hackweek. \n",
    "\n",
    "* Notebook author: Alek Petty\n",
    "* Description: Notebook showing (one way) of binning along-track data to the NSIDC grid\n",
    "* Input requirements: Demo ATL10 data file\n",
    "* Date: July 2020\n",
    "\n",
    "**Please note that this notebook will not run in Binder without first uploading the required input data files.**"
   ]
  },
  {
   "cell_type": "code",
   "execution_count": 1,
   "metadata": {},
   "outputs": [],
   "source": [
    "import warnings\n",
    "warnings.filterwarnings('ignore')\n",
    "import numpy as np\n",
    "import pandas as pd\n",
    "import datetime as dt\n",
    "import matplotlib.pyplot as plt\n",
    "import matplotlib\n",
    "matplotlib.use('Agg')\n",
    "import cartopy.crs as ccrs\n",
    "import h5py\n",
    "import scipy\n",
    "from astropy.time import Time\n",
    "import utils as ut\n",
    "import readers as rd\n",
    "import pyproj\n",
    "import os"
   ]
  },
  {
   "cell_type": "code",
   "execution_count": 2,
   "metadata": {},
   "outputs": [],
   "source": [
    "#Magic function to enable interactive plotting in Jupyter notebook\n",
    "%matplotlib inline"
   ]
  },
  {
   "cell_type": "code",
   "execution_count": 3,
   "metadata": {},
   "outputs": [],
   "source": [
    "data_loc='./data/' # update to where you downloaded the data\n",
    "\n",
    "for file in os.listdir(data_loc):\n",
    "    if file.startswith('ATL10-01_20181115003141_07240101') and file.endswith('.h5'):\n",
    "        fname = file\n",
    "\n",
    "fileT= data_loc+fname"
   ]
  },
  {
   "cell_type": "code",
   "execution_count": 4,
   "metadata": {},
   "outputs": [
    {
     "name": "stdout",
     "output_type": "stream",
     "text": [
      "ATL10 file: ./data/ATL10-01_20181115003141_07240101_003_03.h5\n"
     ]
    },
    {
     "data": {
      "text/html": [
       "<div>\n",
       "<style scoped>\n",
       "    .dataframe tbody tr th:only-of-type {\n",
       "        vertical-align: middle;\n",
       "    }\n",
       "\n",
       "    .dataframe tbody tr th {\n",
       "        vertical-align: top;\n",
       "    }\n",
       "\n",
       "    .dataframe thead th {\n",
       "        text-align: right;\n",
       "    }\n",
       "</style>\n",
       "<table border=\"1\" class=\"dataframe\">\n",
       "  <thead>\n",
       "    <tr style=\"text-align: right;\">\n",
       "      <th></th>\n",
       "      <th>freeboard</th>\n",
       "      <th>freeboard_quality</th>\n",
       "      <th>height</th>\n",
       "      <th>ssh_flag</th>\n",
       "      <th>lon</th>\n",
       "      <th>lat</th>\n",
       "      <th>delta_time</th>\n",
       "      <th>deltaTimeRel</th>\n",
       "      <th>height_segment_id</th>\n",
       "      <th>datetime</th>\n",
       "      <th>seg_x</th>\n",
       "    </tr>\n",
       "  </thead>\n",
       "  <tbody>\n",
       "    <tr>\n",
       "      <th>0</th>\n",
       "      <td>0.136071</td>\n",
       "      <td>1</td>\n",
       "      <td>0.088112</td>\n",
       "      <td>0</td>\n",
       "      <td>-168.496847</td>\n",
       "      <td>73.448986</td>\n",
       "      <td>2.747825e+07</td>\n",
       "      <td>214.786496</td>\n",
       "      <td>272</td>\n",
       "      <td>2018-11-15 00:50:53.510453</td>\n",
       "      <td>8.196524e+06</td>\n",
       "    </tr>\n",
       "    <tr>\n",
       "      <th>1</th>\n",
       "      <td>0.124071</td>\n",
       "      <td>1</td>\n",
       "      <td>0.076111</td>\n",
       "      <td>0</td>\n",
       "      <td>-168.496867</td>\n",
       "      <td>73.449025</td>\n",
       "      <td>2.747825e+07</td>\n",
       "      <td>214.787120</td>\n",
       "      <td>273</td>\n",
       "      <td>2018-11-15 00:50:53.511076</td>\n",
       "      <td>8.196528e+06</td>\n",
       "    </tr>\n",
       "    <tr>\n",
       "      <th>2</th>\n",
       "      <td>0.116132</td>\n",
       "      <td>1</td>\n",
       "      <td>0.068173</td>\n",
       "      <td>0</td>\n",
       "      <td>-168.496879</td>\n",
       "      <td>73.449050</td>\n",
       "      <td>2.747825e+07</td>\n",
       "      <td>214.787513</td>\n",
       "      <td>274</td>\n",
       "      <td>2018-11-15 00:50:53.511470</td>\n",
       "      <td>8.196531e+06</td>\n",
       "    </tr>\n",
       "    <tr>\n",
       "      <th>3</th>\n",
       "      <td>0.099979</td>\n",
       "      <td>1</td>\n",
       "      <td>0.052020</td>\n",
       "      <td>0</td>\n",
       "      <td>-168.496895</td>\n",
       "      <td>73.449082</td>\n",
       "      <td>2.747825e+07</td>\n",
       "      <td>214.788020</td>\n",
       "      <td>275</td>\n",
       "      <td>2018-11-15 00:50:53.511976</td>\n",
       "      <td>8.196534e+06</td>\n",
       "    </tr>\n",
       "    <tr>\n",
       "      <th>4</th>\n",
       "      <td>0.084768</td>\n",
       "      <td>1</td>\n",
       "      <td>0.036809</td>\n",
       "      <td>0</td>\n",
       "      <td>-168.496915</td>\n",
       "      <td>73.449122</td>\n",
       "      <td>2.747825e+07</td>\n",
       "      <td>214.788648</td>\n",
       "      <td>276</td>\n",
       "      <td>2018-11-15 00:50:53.512605</td>\n",
       "      <td>8.196539e+06</td>\n",
       "    </tr>\n",
       "  </tbody>\n",
       "</table>\n",
       "</div>"
      ],
      "text/plain": [
       "   freeboard  freeboard_quality    height  ssh_flag         lon        lat  \\\n",
       "0   0.136071                  1  0.088112         0 -168.496847  73.448986   \n",
       "1   0.124071                  1  0.076111         0 -168.496867  73.449025   \n",
       "2   0.116132                  1  0.068173         0 -168.496879  73.449050   \n",
       "3   0.099979                  1  0.052020         0 -168.496895  73.449082   \n",
       "4   0.084768                  1  0.036809         0 -168.496915  73.449122   \n",
       "\n",
       "     delta_time  deltaTimeRel  height_segment_id                   datetime  \\\n",
       "0  2.747825e+07    214.786496                272 2018-11-15 00:50:53.510453   \n",
       "1  2.747825e+07    214.787120                273 2018-11-15 00:50:53.511076   \n",
       "2  2.747825e+07    214.787513                274 2018-11-15 00:50:53.511470   \n",
       "3  2.747825e+07    214.788020                275 2018-11-15 00:50:53.511976   \n",
       "4  2.747825e+07    214.788648                276 2018-11-15 00:50:53.512605   \n",
       "\n",
       "          seg_x  \n",
       "0  8.196524e+06  \n",
       "1  8.196528e+06  \n",
       "2  8.196531e+06  \n",
       "3  8.196534e+06  \n",
       "4  8.196539e+06  "
      ]
     },
     "execution_count": 4,
     "metadata": {},
     "output_type": "execute_result"
    }
   ],
   "source": [
    "beamStr='gt1r'\n",
    "dF10 = rd.getATL10data(fileT, beam=beamStr)\n",
    "dF10.head()"
   ]
  },
  {
   "cell_type": "code",
   "execution_count": 5,
   "metadata": {},
   "outputs": [],
   "source": [
    "def create_grid_nsidc(epsg_string='3411', nx=304, ny=448, leftx=-3837500, dxRes=25000, uppery=5837500, dyRes=25000):\n",
    "    \"\"\" Use pyproj to generate the NSIDC North Polar Stereographic grid covering the given domain (defined by the projection and the corner lat/lons)\"\"\"\n",
    "\n",
    "    crs = pyproj.CRS.from_string(\"epsg:\"+epsg_string)\n",
    "    p=pyproj.Proj(crs)\n",
    "    \n",
    "    print(dxRes, dyRes)\n",
    "\n",
    "    x=leftx+dxRes*np.indices((ny,nx),np.float32)[1]\n",
    "    y=uppery-dxRes*np.indices((ny,nx),np.float32)[0]\n",
    "    lons, lats = p(x, y, inverse=True)\n",
    "    \n",
    "    return x, y, lats, lons, p\n",
    "\n",
    "def create_grid_og(epsg_string='3413', dxRes=25000., lllat=36, llon=-90, urlat=36, urlon=90):\n",
    "    \"\"\" Use pyproj to generate a grid covering the given domain (defined by the projection and the corner lat/lons)\"\"\"\n",
    "\n",
    "    crs = pyproj.CRS.from_string(\"epsg:\"+epsg_string)\n",
    "    p=pyproj.Proj(crs)\n",
    "    llcrn=p(llon, lllat)\n",
    "    urcrn=p(urlon, urlat)\n",
    "\n",
    "    print(llcrn)\n",
    "    print(urcrn)\n",
    "\n",
    "    nx = int((urcrn[0]-llcrn[0])/dxRes)+1\n",
    "    ny = int((urcrn[1]-llcrn[1])/dxRes)+1\n",
    "    print(nx, ny)\n",
    "\n",
    "    x = llcrn[0]+dxRes*np.indices((ny,nx),np.float32)[0] # 1=column indicdes\n",
    "    y = llcrn[1]+dxRes*np.indices((ny,nx),np.float32)[1] # 0=row indices\n",
    "\n",
    "    lons, lats = p(x, y, inverse=True)\n",
    "\n",
    "    return x, y, lats, lons, p\n"
   ]
  },
  {
   "cell_type": "code",
   "execution_count": 6,
   "metadata": {},
   "outputs": [
    {
     "name": "stdout",
     "output_type": "stream",
     "text": [
      "25000 25000\n"
     ]
    }
   ],
   "source": [
    "xptsG, yptsG, latG, lonG, proj = create_grid_nsidc()"
   ]
  },
  {
   "cell_type": "code",
   "execution_count": 7,
   "metadata": {},
   "outputs": [],
   "source": [
    "def bin_data(xpts, ypts, var, xptsG, yptsG, dx):\n",
    "    \"\"\" Bin data using numpy histogram2d\n",
    "    \n",
    "    Adapted for the NSIDC grid which has its orgin in the top left corner.\n",
    "\n",
    "    \"\"\"\n",
    "    \n",
    "    # Need to flip the arrays because the origin is in the top left but the histogram2d function needs x/y increasing.\n",
    "    xptsG2=np.flipud(xptsG)\n",
    "    yptsG2=np.flipud(yptsG)\n",
    "    \n",
    "    # get bin edges by subtracting half a grid-width and adding on another bin in both directions\n",
    "    xbins=xptsG2[0]-(dx/2)\n",
    "    ybins=yptsG2[:, 0]-(dx/2)\n",
    "\n",
    "    xbins2=np.append(xbins, xbins[-1]+dx)\n",
    "    ybins2=np.append(ybins, ybins[-1]+dx)\n",
    "    \n",
    "    print('binning..')\n",
    "    #print(xbins2.shape)\n",
    "    #print(ybins2.shape)\n",
    "    counts, xedges, yedges = np.histogram2d(xpts, ypts,bins=(xbins2, ybins2))\n",
    "    z, _, _ = np.histogram2d(xpts, ypts,bins=(xbins2, ybins2), weights=var)\n",
    "    varG = z / counts\n",
    "    \n",
    "    # Need to re-flip the arrays then transpose because of how histogram2d works across columns then rows.\n",
    "    varG=np.flipud(varG.T)\n",
    "    counts=np.flipud(counts.T)\n",
    "\n",
    "    return varG\n",
    "\n",
    "def bin_data_og(xpts, ypts, var, xptsG, yptsG, dx):\n",
    "    \"\"\" Bin data using numpy histogram 2d\n",
    "     You can use this one when using the og grid\"\"\"\n",
    "\n",
    "    xbins=xptsG[:,0]-(dx/2)\n",
    "    ybins=yptsG[0, :]-(dx/2)\n",
    "    xbins=np.append(xbins, xbins[-1]+dx)\n",
    "    ybins=np.append(ybins, ybins[-1]+dx)\n",
    "\n",
    "    counts, xedges, yedges = np.histogram2d(xpts, ypts,bins=(xbins, ybins))\n",
    "    z, _, _ = np.histogram2d(xpts, ypts,bins=(xbins, ybins), weights=var)\n",
    "    varG = z / counts\n",
    "    \n",
    "    return varG\n"
   ]
  },
  {
   "cell_type": "code",
   "execution_count": 8,
   "metadata": {},
   "outputs": [
    {
     "ename": "NameError",
     "evalue": "name 'dx' is not defined",
     "output_type": "error",
     "traceback": [
      "\u001b[0;31m---------------------------------------------------------------------------\u001b[0m",
      "\u001b[0;31mNameError\u001b[0m                                 Traceback (most recent call last)",
      "\u001b[0;32m<ipython-input-8-df92d2efd09b>\u001b[0m in \u001b[0;36m<module>\u001b[0;34m\u001b[0m\n\u001b[1;32m      3\u001b[0m \u001b[0mx10\u001b[0m\u001b[0;34m,\u001b[0m \u001b[0my10\u001b[0m\u001b[0;34m=\u001b[0m\u001b[0mmapProj\u001b[0m\u001b[0;34m(\u001b[0m\u001b[0mdF10\u001b[0m\u001b[0;34m.\u001b[0m\u001b[0mlon\u001b[0m\u001b[0;34m.\u001b[0m\u001b[0mvalues\u001b[0m\u001b[0;34m,\u001b[0m \u001b[0mdF10\u001b[0m\u001b[0;34m.\u001b[0m\u001b[0mlat\u001b[0m\u001b[0;34m.\u001b[0m\u001b[0mvalues\u001b[0m\u001b[0;34m)\u001b[0m\u001b[0;34m\u001b[0m\u001b[0;34m\u001b[0m\u001b[0m\n\u001b[1;32m      4\u001b[0m \u001b[0;34m\u001b[0m\u001b[0m\n\u001b[0;32m----> 5\u001b[0;31m \u001b[0mvarG\u001b[0m\u001b[0;34m=\u001b[0m\u001b[0mbin_data\u001b[0m\u001b[0;34m(\u001b[0m\u001b[0mx10\u001b[0m\u001b[0;34m,\u001b[0m \u001b[0my10\u001b[0m\u001b[0;34m,\u001b[0m \u001b[0mdF10\u001b[0m\u001b[0;34m.\u001b[0m\u001b[0mfreeboard\u001b[0m\u001b[0;34m.\u001b[0m\u001b[0mvalues\u001b[0m\u001b[0;34m,\u001b[0m \u001b[0mxptsG\u001b[0m\u001b[0;34m,\u001b[0m \u001b[0myptsG\u001b[0m\u001b[0;34m,\u001b[0m \u001b[0mdx\u001b[0m\u001b[0;34m)\u001b[0m\u001b[0;34m\u001b[0m\u001b[0;34m\u001b[0m\u001b[0m\n\u001b[0m\u001b[1;32m      6\u001b[0m \u001b[0mprint\u001b[0m\u001b[0;34m(\u001b[0m\u001b[0mvarG\u001b[0m\u001b[0;34m.\u001b[0m\u001b[0mshape\u001b[0m\u001b[0;34m)\u001b[0m\u001b[0;34m\u001b[0m\u001b[0;34m\u001b[0m\u001b[0m\n",
      "\u001b[0;31mNameError\u001b[0m: name 'dx' is not defined"
     ]
    }
   ],
   "source": [
    "# Define a projection \n",
    "mapProj = pyproj.Proj(\"+init=EPSG:3411\")\n",
    "x10, y10=mapProj(dF10.lon.values, dF10.lat.values)\n",
    "\n",
    "varG=bin_data(x10, y10, dF10.freeboard.values, xptsG, yptsG, dx)\n",
    "print(varG.shape)"
   ]
  },
  {
   "cell_type": "code",
   "execution_count": null,
   "metadata": {},
   "outputs": [],
   "source": [
    "varG"
   ]
  },
  {
   "cell_type": "code",
   "execution_count": null,
   "metadata": {},
   "outputs": [],
   "source": [
    "# Plot this gridded data\n",
    "# Note that we're not using the exact same projection here but a similar built-in North Polar Stereographic projection, just for plotting.\n",
    "fig=plt.figure(figsize=(5, 6))\n",
    "# Use the in-built northpolarstereo to vizualize (should somehow use the actual projection)\n",
    "ax = plt.axes(projection =ccrs.NorthPolarStereo(central_longitude=-45))\n",
    "cs=ax.pcolormesh(lonG, latG, varG, vmin=0, vmax=0.5,transform=ccrs.PlateCarree(), zorder=2)\n",
    "ax.coastlines(zorder=3)\n",
    "ax.gridlines(draw_labels=True,\n",
    "          linewidth=0.22, color='gray', alpha=0.5, linestyle='--')\n",
    "\n",
    "ax.set_extent([-179, 179, 50, 90], ccrs.PlateCarree())"
   ]
  },
  {
   "cell_type": "code",
   "execution_count": null,
   "metadata": {},
   "outputs": [],
   "source": [
    "# As a sanity check let's plot the raw data too..."
   ]
  },
  {
   "cell_type": "code",
   "execution_count": null,
   "metadata": {},
   "outputs": [],
   "source": [
    "# Plot this gridded data\n",
    "fig=plt.figure(figsize=(5, 6))\n",
    "# Use the in-built northpolarstereo to vizualize (should somehow use the actual projection)\n",
    "ax = plt.axes(projection =ccrs.NorthPolarStereo(central_longitude=-45))\n",
    "cs=ax.scatter(dF10.lon.values, dF10.lat.values, c=dF10.freeboard.values,vmin=0, vmax=0.5,transform=ccrs.PlateCarree(), zorder=2)\n",
    "ax.coastlines(zorder=3)\n",
    "ax.gridlines(draw_labels=True,\n",
    "          linewidth=0.22, color='gray', alpha=0.5, linestyle='--')\n",
    "\n",
    "ax.set_extent([-179, 179, 50, 90], ccrs.PlateCarree())"
   ]
  },
  {
   "cell_type": "code",
   "execution_count": null,
   "metadata": {},
   "outputs": [],
   "source": []
  }
 ],
 "metadata": {
  "kernelspec": {
   "display_name": "Python [conda env:notebook] *",
   "language": "python",
   "name": "conda-env-notebook-py"
  },
  "language_info": {
   "codemirror_mode": {
    "name": "ipython",
    "version": 3
   },
   "file_extension": ".py",
   "mimetype": "text/x-python",
   "name": "python",
   "nbconvert_exporter": "python",
   "pygments_lexer": "ipython3",
   "version": "3.7.6"
  }
 },
 "nbformat": 4,
 "nbformat_minor": 4
}
