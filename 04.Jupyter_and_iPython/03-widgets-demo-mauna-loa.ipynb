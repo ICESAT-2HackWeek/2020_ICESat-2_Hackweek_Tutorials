{
 "cells": [
  {
   "cell_type": "markdown",
   "metadata": {},
   "source": [
    "# Learning models from data: Mauna Loa CO$_2$ record\n",
    "\n",
    "## Motivation: Climate Change\n",
    "\n",
    "> _The climate emergency is one of the most pressing issues of our time. At this pivotal moment, the decisions and actions we take today will reverberate beyond our own borders and lifetimes._ -- [UBC Climate Emergency Engagement](https://climateemergency.ubc.ca/)\n",
    "\n",
    "Carbon Dioxide (CO$_2$) is a greenhouse gas, and significant contributor to the warming of the climate. It is an important input into climate models, which we use to make predictions about possible future climate scenarios, and sometimes to make policy decisions, including carbon taxes. \n",
    "\n",
    "**Question:** Based on historical CO$_2$ data, can we predict what CO$_2$ concentrations will be in the future? \n",
    "\n",
    "## Learning Goals\n",
    "- explore the idea of \"learning\": building a model from data that lets us make predictions \n",
    "- introduce the principles of linear regression, a simple, but powerful method for estimating a linear model of data\n",
    "- explore the impact of outliers in data on the model \n",
    "- discuss the limitations of models\n",
    "\n",
    "## Context\n",
    "\n",
    "Scripps institute of Oceanography has a research station at Mauna Loa in Hawaii where they have been measuring atmospheric CO$_2$ since 1958. The data we will focus on are the seasonally adjusted data. \n",
    "\n",
    "<img src=\"https://scrippsco2.ucsd.edu/assets/images/mlo_station_map.png\" align=\"center\">\n",
    "\n",
    "**Data Source**\n",
    "\n",
    "C. D. Keeling, S. C. Piper, R. B. Bacastow, M. Wahlen, T. P. Whorf, M. Heimann, and  H. A. Meijer, Exchanges of atmospheric CO2 and 13CO2 with the terrestrial biosphere and  oceans from 1978 to 2000.  I. Global aspects, SIO Reference Series, No. 01-06, Scripps  Institution of Oceanography, San Diego, 88 pages, 2001. https://scrippsco2.ucsd.edu/data/atmospheric_co2/primary_mlo_co2_record.html   \n",
    "\n",
    "## Running the notebook\n",
    "- Each block of code can be run with `shift` + `enter` or from the menu with `Cell` + `Run Cells`\n",
    "- If you need to restart the notebook, go to the menu: `Kernel` + `Restart`. "
   ]
  },
  {
   "cell_type": "markdown",
   "metadata": {},
   "source": [
    "http://bit.ly/eds-2020-demo"
   ]
  },
  {
   "cell_type": "markdown",
   "metadata": {},
   "source": [
    "## Import the python packages we use in this lesson \n",
    "\n",
    "These are standard packages in python, \n",
    "- `numpy` is the numerical array package in python\n",
    "- `scipy.stats` is what we will use to estimate a linear model \n",
    "- `matplotlib` has tools for plotting\n",
    "- `ipywidgets` lets us connect interactive components like slide bars and toggle buttons to the code"
   ]
  },
  {
   "cell_type": "code",
   "execution_count": null,
   "metadata": {},
   "outputs": [],
   "source": [
    "import numpy as np\n",
    "from scipy import stats\n",
    "import matplotlib.pyplot as plt\n",
    "import ipywidgets as widgets\n",
    "\n",
    "# set a larger font size for viewing \n",
    "from matplotlib import rcParams\n",
    "rcParams[\"font.size\"] = 14"
   ]
  },
  {
   "cell_type": "markdown",
   "metadata": {},
   "source": [
    "## Load the data"
   ]
  },
  {
   "cell_type": "code",
   "execution_count": null,
   "metadata": {},
   "outputs": [],
   "source": [
    "co2_data = np.load(\"mauna_loa_data.npz\")\n",
    "dates = co2_data[\"dates\"]\n",
    "co2 = co2_data[\"co2\"]"
   ]
  },
  {
   "cell_type": "code",
   "execution_count": null,
   "metadata": {},
   "outputs": [],
   "source": [
    "print(\n",
    "    f\"The first year in the data is {int(dates.min())} \"\n",
    "    f\"and the last year in the data set is {int(dates.max())}.\" \n",
    ")"
   ]
  },
  {
   "cell_type": "markdown",
   "metadata": {},
   "source": [
    "## Define some helper functions for fetching data\n",
    "\n",
    "- `get_data_between`  : fetches the seasonally adjusted CO$_2$ data from Mauna Loa between `year_min` and `year_max`\n",
    "\n",
    "- `plot_co2_data` plots the data between `year_min` and `year_max`"
   ]
  },
  {
   "cell_type": "code",
   "execution_count": null,
   "metadata": {},
   "outputs": [],
   "source": [
    "def get_data_between(year_min=1958, year_max=2020, data_type=\"seasonally adjusted\"):\n",
    "    \"\"\"\n",
    "    A function to fetch data between year_min and year_max  \n",
    "    \"\"\"\n",
    "        \n",
    "    # find the data between the minimimum and maximum years\n",
    "    indices = (dates >= year_min) & (dates <= year_max) \n",
    "    \n",
    "    return dates[indices], co2[indices]\n",
    "    "
   ]
  },
  {
   "cell_type": "code",
   "execution_count": null,
   "metadata": {},
   "outputs": [],
   "source": [
    "def plot_co2_data(dates, data, ax=None):\n",
    "    \"\"\"\n",
    "    A function that we can use to plot data between year_min and year_max\n",
    "    \"\"\"\n",
    "    \n",
    "    # create a figure if one isn't supplied\n",
    "    if ax is None:\n",
    "        fig, ax = plt.subplots(1, 1, figsize=(8, 5))\n",
    "        \n",
    "    # plot data\n",
    "    ax.plot(dates, data, '.',  ms=8)\n",
    "    ax.grid()\n",
    "    ax.set_xlabel(f\"Year\")\n",
    "    ax.set_ylabel(f\"Seasonally adjusted CO$_2$ [ppm]\")"
   ]
  },
  {
   "cell_type": "markdown",
   "metadata": {},
   "source": [
    "## Plot the whole data set"
   ]
  },
  {
   "cell_type": "code",
   "execution_count": null,
   "metadata": {},
   "outputs": [],
   "source": [
    "plot_co2_data(dates, co2)"
   ]
  },
  {
   "cell_type": "markdown",
   "metadata": {},
   "source": [
    "## Focus on the first 5 years\n",
    "\n",
    "**Question:** If the trend between 1958 and 1963 continues, what would we expect the CO$_2$ concentration to be in January, 2030?  "
   ]
  },
  {
   "cell_type": "code",
   "execution_count": null,
   "metadata": {},
   "outputs": [],
   "source": [
    "early_year = 1963\n",
    "dates_before_early_year, co2_before_early_year = get_data_between(year_max=early_year)\n",
    "plot_co2_data(dates_before_early_year, co2_before_early_year)"
   ]
  },
  {
   "cell_type": "markdown",
   "metadata": {},
   "source": [
    "### Part 1: The \"eyeball\" norm \n",
    "\n",
    "- using the widgets below, estimate a slope and intercept of a line that fits the data\n",
    "- the `slope` indicates the rate of CO$_2$ accumulation per year\n",
    "- the `intercept` is the estimated concentration of CO$_2$ at the first point we consider"
   ]
  },
  {
   "cell_type": "code",
   "execution_count": null,
   "metadata": {},
   "outputs": [],
   "source": [
    "def add_line(dates, slope, intercept, ax=None, label=None):\n",
    "    \"\"\"\n",
    "    A function to add a line to a plot\n",
    "    \"\"\"\n",
    "    \n",
    "    # create a figure if one isn't supplied\n",
    "    if ax is None:\n",
    "        fig, ax = plt.subplots(1, 1, figsize=(8, 5))\n",
    "    \n",
    "    y = slope * (dates - dates.min()) + intercept\n",
    "    ax.plot(dates, y, label=label)\n",
    "\n",
    "def widget_fit_co2_data(slope, intercept, year_min=1958, year_max=2020):\n",
    "    \"\"\"\n",
    "    This function creates an interactive widget where we can fit a curve to data\n",
    "    \"\"\"\n",
    "    fig, ax = plt.subplots(1, 1, figsize=(8, 5))\n",
    "    dates_in_range, data_in_range = get_data_between(\n",
    "        year_min=year_min, year_max=year_max\n",
    "    )\n",
    "    plot_co2_data(dates_in_range, data_in_range, ax=ax)\n",
    "    ax.set_ylim([data_in_range.min()-1, data_in_range.max()+1])\n",
    "    add_line(dates_in_range, slope, intercept, ax=ax)"
   ]
  },
  {
   "cell_type": "code",
   "execution_count": null,
   "metadata": {},
   "outputs": [],
   "source": [
    "w_early_year = widgets.interactive(\n",
    "    widget_fit_co2_data, \n",
    "    slope=widgets.FloatSlider(min=0, max=5, step=0.1, value=2),\n",
    "    intercept=widgets.FloatSlider(min=co2_before_early_year.min()-1, max=co2_before_early_year.max()+1, step=0.25),\n",
    "    year_min=widgets.fixed(1958),\n",
    "    year_max=widgets.fixed(early_year),\n",
    ")\n",
    "w_early_year"
   ]
  },
  {
   "cell_type": "markdown",
   "metadata": {},
   "source": [
    "### Discuss with your neighbour\n",
    "\n",
    "- What are the features of a \"good fit\"? "
   ]
  },
  {
   "cell_type": "markdown",
   "metadata": {},
   "source": [
    "### Make a prediction \n",
    "\n",
    "Based on your estimated slope and intercept values what will the CO$_2$ concentration be in January 2030"
   ]
  },
  {
   "cell_type": "code",
   "execution_count": null,
   "metadata": {},
   "outputs": [],
   "source": [
    "predict_year = 2030"
   ]
  },
  {
   "cell_type": "code",
   "execution_count": null,
   "metadata": {},
   "outputs": [],
   "source": [
    "def predict_co2(slope, intercept, initial_date, prediction_date):\n",
    "    \"\"\"\n",
    "    based on an estimated slope, and intercept use a linear \n",
    "    model to predict CO2 concentration\n",
    "    \"\"\"\n",
    "    return slope * (prediction_date-initial_date) + intercept"
   ]
  },
  {
   "cell_type": "markdown",
   "metadata": {},
   "source": [
    "The following lines of code grab the value of the slope and intercept from the widget above. "
   ]
  },
  {
   "cell_type": "code",
   "execution_count": null,
   "metadata": {},
   "outputs": [],
   "source": [
    "eyeball_slope_early = w_early_year.children[0].value\n",
    "eyeball_intercept_early = w_early_year.children[1].value"
   ]
  },
  {
   "cell_type": "markdown",
   "metadata": {},
   "source": [
    "Here, we use the values of the slope and intercept you estimated to predict the CO$_2$ concentration in the future. "
   ]
  },
  {
   "cell_type": "code",
   "execution_count": null,
   "metadata": {},
   "outputs": [],
   "source": [
    "prediction_eyeball_early = predict_co2(\n",
    "    eyeball_slope_early,\n",
    "    eyeball_intercept_early,\n",
    "    dates_before_early_year.min(),\n",
    "    predict_year\n",
    ")\n",
    "\n",
    "print(\n",
    "    f\"Predicted CO2 in {predict_year}: {prediction_eyeball_early:1.2f} [ppm]\"\n",
    ")"
   ]
  },
  {
   "cell_type": "markdown",
   "metadata": {},
   "source": [
    "### Part 2: Using least squares\n",
    "\n",
    "In a linear regression (a least-squares problem with one dimension), the measure of a `good fit` is \n",
    "\n",
    "$$\n",
    "\\phi = \\sum_i (d_i^{pred} - d_i^{obs})^2\n",
    "$$\n",
    "\n",
    "or if we treat form the vector $\\mathbf{d} = [d_0, d_1, ... d_n]$, then this is equivalent to the $l_2$ norm of the difference between the observed data and our prediction. \n",
    "\n",
    "$$\n",
    "\\phi = \\| \\mathbf{d}^{pred} - \\mathbf{d}^{obs} \\|^2\n",
    "$$\n",
    "\n",
    "So what we are asking for is to minimize the vertical distance between each point and the line. \n",
    "\n",
    "<img src=\"https://upload.wikimedia.org/wikipedia/commons/thumb/b/b0/Linear_least_squares_example2.svg/1920px-Linear_least_squares_example2.svg.png\" width=40%>\n",
    "\n",
    "\n",
    "We will walk through the derivation of the least-squares solution in the next lecture. For now, we will explore how to apply it to these data. \n",
    "\n"
   ]
  },
  {
   "cell_type": "code",
   "execution_count": null,
   "metadata": {},
   "outputs": [],
   "source": [
    "slope_early, intercept_early, _, _, _ = stats.linregress(\n",
    "    dates_before_early_year - dates_before_early_year.min(), co2_before_early_year\n",
    ")\n",
    "print(\n",
    "    f\"The slope from linear regression is:         {slope_early:1.2f} ppm/year \\n\"\n",
    "    f\"and the intercept from linear regression is: {intercept_early:1.2f} ppm.\"\n",
    ")"
   ]
  },
  {
   "cell_type": "markdown",
   "metadata": {},
   "source": [
    "### compare the least squares fit with your fit"
   ]
  },
  {
   "cell_type": "code",
   "execution_count": null,
   "metadata": {},
   "outputs": [],
   "source": [
    "fig, ax = plt.subplots(1, 1, figsize=(8, 5))\n",
    "plot_co2_data(dates_before_early_year, co2_before_early_year, ax=ax)\n",
    "add_line(\n",
    "    dates_before_early_year, slope_early, intercept_early, ax=ax, \n",
    "    label=f\"regression fit\"\n",
    ")\n",
    "add_line(\n",
    "    dates_before_early_year, eyeball_slope_early, eyeball_intercept_early, ax=ax, \n",
    "    label=f\"eyeball norm\"\n",
    ")\n",
    "ax.legend()\n"
   ]
  },
  {
   "cell_type": "markdown",
   "metadata": {},
   "source": [
    "### Make a prediction with the slope from linear regression"
   ]
  },
  {
   "cell_type": "code",
   "execution_count": null,
   "metadata": {},
   "outputs": [],
   "source": [
    "predict_year = 2030\n",
    "\n",
    "prediction_fit_early = predict_co2(\n",
    "    slope_early,\n",
    "    intercept_early,\n",
    "    dates_before_early_year.min(),\n",
    "    predict_year\n",
    ")\n",
    "\n",
    "print(\n",
    "    f\"Predicted CO2 in {predict_year}: {prediction_fit_early:1.2f} [ppm]\"\n",
    ")"
   ]
  },
  {
   "cell_type": "markdown",
   "metadata": {},
   "source": [
    "## Focus on recent data: the last 5 years"
   ]
  },
  {
   "cell_type": "code",
   "execution_count": null,
   "metadata": {},
   "outputs": [],
   "source": [
    "recent_year = 2015\n",
    "dates_after_recent_year, co2_after_recent_year = get_data_between(year_min=recent_year)\n",
    "plot_co2_data(dates_after_recent_year, co2_after_recent_year)"
   ]
  },
  {
   "cell_type": "code",
   "execution_count": null,
   "metadata": {},
   "outputs": [],
   "source": [
    "w_recent = widgets.interactive(\n",
    "    widget_fit_co2_data, \n",
    "    slope=widgets.FloatSlider(min=0, max=5, step=0.1, value=2),\n",
    "    intercept=widgets.FloatSlider(min=co2_after_recent_year.min()-1, max=co2_after_recent_year.max()+1, step=0.25),\n",
    "    year_min=widgets.fixed(recent_year),\n",
    "    year_max=widgets.fixed(2020),\n",
    ")\n",
    "w_recent"
   ]
  },
  {
   "cell_type": "code",
   "execution_count": null,
   "metadata": {},
   "outputs": [],
   "source": [
    "slope_recent, intercept_recent, _, _, _ = stats.linregress(\n",
    "    dates_after_recent_year  - dates_after_recent_year.min(), co2_after_recent_year \n",
    ")\n",
    "print(\n",
    "    f\"The slope from linear regression is:         {slope_recent:1.2f} ppm/year \\n\"\n",
    "    f\"and the intercept from linear regression is: {intercept_recent:1.2f} ppm\"\n",
    ")"
   ]
  },
  {
   "cell_type": "code",
   "execution_count": null,
   "metadata": {},
   "outputs": [],
   "source": [
    "eyeball_slope_recent = w_recent.children[0].value\n",
    "eyeball_intercept_recent = w_recent.children[1].value"
   ]
  },
  {
   "cell_type": "code",
   "execution_count": null,
   "metadata": {},
   "outputs": [],
   "source": [
    "fig, ax = plt.subplots(1, 1, figsize=(8, 5))\n",
    "plot_co2_data(dates_after_recent_year, co2_after_recent_year, ax=ax)\n",
    "add_line(\n",
    "    dates_after_recent_year, slope_recent, intercept_recent, ax=ax, \n",
    "    label=f\"regression fit\"\n",
    ")\n",
    "add_line(\n",
    "    dates_after_recent_year, eyeball_slope_recent, eyeball_intercept_recent, ax=ax, \n",
    "    label=f\"eyeball norm\"\n",
    ")\n",
    "ax.legend()\n"
   ]
  },
  {
   "cell_type": "markdown",
   "metadata": {},
   "source": [
    "### Predict concentration using data from 2015 -- 2020"
   ]
  },
  {
   "cell_type": "code",
   "execution_count": null,
   "metadata": {},
   "outputs": [],
   "source": [
    "predict_year = 2030\n",
    "\n",
    "prediction_fit_recent = predict_co2(\n",
    "    slope_recent,\n",
    "    intercept_recent,\n",
    "    dates_after_recent_year.min(),\n",
    "    predict_year\n",
    ")\n",
    "\n",
    "print(\n",
    "    f\"Predicted CO2 in {predict_year}: {prediction_fit_recent:1.2f} ppm\"\n",
    ")"
   ]
  },
  {
   "cell_type": "markdown",
   "metadata": {},
   "source": [
    "## Compare these models"
   ]
  },
  {
   "cell_type": "code",
   "execution_count": null,
   "metadata": {},
   "outputs": [],
   "source": [
    "print(\n",
    "    f\"Predicted CO2 in {predict_year} using data from: \\n\"\n",
    "    f\"  1958 - {early_year}: {prediction_fit_early:1.2f} ppm, with a slope of {slope_early:1.2f} ppm/year \\n\"\n",
    "    f\"  {recent_year} - 2020: {prediction_fit_recent:1.2f} ppm, with a slope of {slope_recent:1.2f} ppm/year\"\n",
    ")"
   ]
  },
  {
   "cell_type": "markdown",
   "metadata": {},
   "source": [
    "## before looking at the next plot(!)\n",
    "\n",
    "Discuss with your neighbour - why are these so different? "
   ]
  },
  {
   "cell_type": "code",
   "execution_count": null,
   "metadata": {},
   "outputs": [],
   "source": [
    "def plot_predictions(xlim=None, ylim=None):\n",
    "    dates_to_year_predicted = np.hstack([dates, np.r_[predict_year]])\n",
    "\n",
    "    fig, ax = plt.subplots(1, 1, figsize=(8, 5))\n",
    "    plot_co2_data(dates, co2, ax=ax)\n",
    "\n",
    "    # add predictions to 2030\n",
    "    add_line(\n",
    "        dates_to_year_predicted, slope_early, intercept_early, \n",
    "        ax=ax, label=f\"1958 - {early_year} prediction\"\n",
    "    )\n",
    "\n",
    "    add_line(\n",
    "        dates_to_year_predicted, slope_recent, \n",
    "        intercept_recent-((dates_after_recent_year.min() - dates.min())*slope_recent), # adjust the intercept to use 1958 as the \"zero\"\n",
    "        ax=ax, label=f\"{recent_year} - 2020 prediction\"\n",
    "    )\n",
    "    \n",
    "    ax.set_xlim(xlim)\n",
    "    ax.set_ylim(ylim)\n",
    "    ax.legend()\n",
    "\n",
    "plot_predictions()"
   ]
  },
  {
   "cell_type": "markdown",
   "metadata": {},
   "source": [
    "## Discussion:\n",
    "\n",
    "**Q1:** Within small enough regions, the data follow an approximately linear trend, so a linear model has some predictive power. In the following cell, we have a widget where you can zoom in on the plot. \n",
    "- Out to which year would you trust the model built with the data from 1958 - 1963? \n",
    "- Where does it start to break down?\n",
    "\n",
    "**Q2:** How far out would you trust our predictions with data from 2015 - 2020? Would you trust our model to predict CO$_2$ in the year 2050? \n",
    "\n",
    "**Q3:** How would you approach building a model to fit all of our data? \n",
    "\n"
   ]
  },
  {
   "cell_type": "code",
   "execution_count": null,
   "metadata": {},
   "outputs": [],
   "source": [
    "widgets.interactive(\n",
    "    plot_predictions, \n",
    "    xlim=widgets.IntRangeSlider(min=dates.min(), max=predict_year+1, value=[int(dates.min()), predict_year+1], continuous_update=False),\n",
    "    ylim=widgets.IntRangeSlider(min=300, max=420, value=[300, 420],  continuous_update=False),\n",
    "   \n",
    ")"
   ]
  },
  {
   "cell_type": "markdown",
   "metadata": {},
   "source": [
    "# Explore further: \n",
    "\n",
    "Try expanding the number of years included in each analysis. How many years does it take before a linear model is no longer appropriate?  "
   ]
  },
  {
   "cell_type": "markdown",
   "metadata": {},
   "source": [
    "# Upcoming topics:\n",
    "\n",
    "- Assessing quality of fit and the impact of outliers \n",
    "- Deriving the solution to the least squares problem\n",
    "- How do we incorporate data uncertainties into our model?\n",
    "- How do we fit models which are not linear? "
   ]
  },
  {
   "cell_type": "markdown",
   "metadata": {},
   "source": [
    "## For next lecture - compare your fit to a least squares fit\n",
    "What impact does an outlier have?"
   ]
  },
  {
   "cell_type": "code",
   "execution_count": null,
   "metadata": {},
   "outputs": [],
   "source": [
    "np.random.seed(2020)  # set a random seed so we are working with the same data\n",
    "\n",
    "slope = 1\n",
    "intercept = 0\n",
    "n_samples = 10\n",
    "noise_level = 0.1\n",
    "\n",
    "x = np.linspace(0, 1, n_samples)\n",
    "y = slope*x + intercept + noise_level * np.random.randn(n_samples)"
   ]
  },
  {
   "cell_type": "code",
   "execution_count": null,
   "metadata": {},
   "outputs": [],
   "source": [
    "def create_outlier(outlier=n_samples-1, offset=0):\n",
    "    yy = y.copy()\n",
    "    yy[int(outlier)] = yy[int(outlier)] + offset\n",
    "    return yy"
   ]
  },
  {
   "cell_type": "code",
   "execution_count": null,
   "metadata": {},
   "outputs": [],
   "source": [
    "def plot_data_with_outlier(outlier=n_samples-2, offset=0, ax=None):\n",
    "    if ax is None:\n",
    "        fig, ax = plt.subplots(1, 1, figsize=(8, 5))\n",
    "    \n",
    "    yy = create_outlier(outlier, offset)\n",
    "    ax.plot(x, yy, 'o')\n",
    "    ax.grid(which=\"both\")"
   ]
  },
  {
   "cell_type": "code",
   "execution_count": null,
   "metadata": {},
   "outputs": [],
   "source": [
    "def plot_eyeball_norm_outlier(\n",
    "    outlier=n_samples/2, offset=0., slope=1, intercept=0\n",
    "):\n",
    "    fig, ax = plt.subplots(1, 1, figsize=(8, 5))\n",
    "        \n",
    "    plot_data_with_outlier(outlier, offset, ax)\n",
    "    add_line(x, slope, intercept, ax)"
   ]
  },
  {
   "cell_type": "code",
   "execution_count": null,
   "metadata": {},
   "outputs": [],
   "source": [
    "w_outlier = widgets.interactive(\n",
    "    plot_eyeball_norm_outlier, \n",
    "    outlier=widgets.IntSlider(min=0, max=n_samples-1, value=n_samples-5),\n",
    "    offset=widgets.FloatSlider(min=-5, max=5, value=1),\n",
    "    slope=widgets.FloatSlider(min=0, max=2, value=0.5),\n",
    "    intercept=widgets.FloatSlider(min=-1, max=1, value=0),\n",
    "    \n",
    ")\n",
    "\n",
    "w_outlier"
   ]
  },
  {
   "cell_type": "code",
   "execution_count": null,
   "metadata": {},
   "outputs": [],
   "source": [
    "widget_outlier = w_outlier.children[0].value\n",
    "widget_offset = w_outlier.children[1].value\n",
    "widget_slope = w_outlier.children[2].value\n",
    "widget_intercept = w_outlier.children[3].value"
   ]
  },
  {
   "cell_type": "code",
   "execution_count": null,
   "metadata": {},
   "outputs": [],
   "source": [
    "slope_outlier_fit, intercept_outlier_fit, _, _, _ = stats.linregress(\n",
    "    x, create_outlier(widget_outlier, widget_offset)\n",
    ")\n",
    "print(\n",
    "    f\"The slope from linear regression is:         {slope_outlier_fit:1.2f} \\n\"\n",
    "    f\"and the intercept from linear regression is: {intercept_outlier_fit:1.2f}\"\n",
    ")"
   ]
  },
  {
   "cell_type": "code",
   "execution_count": null,
   "metadata": {},
   "outputs": [],
   "source": [
    "fig, ax = plt.subplots(1, 1, figsize=(8, 5))\n",
    "plot_data_with_outlier(widget_outlier, widget_offset, ax)\n",
    "add_line(\n",
    "    x, slope_outlier_fit, intercept_outlier_fit, ax, \n",
    "    label=f\"linear regression\"\n",
    ")\n",
    "add_line(\n",
    "    x, widget_slope, widget_intercept, ax, \n",
    "    label=f\"eyeball norm\"\n",
    ")\n",
    "ax.legend()\n"
   ]
  },
  {
   "cell_type": "code",
   "execution_count": null,
   "metadata": {},
   "outputs": [],
   "source": []
  }
 ],
 "metadata": {
  "kernelspec": {
   "display_name": "Python 3",
   "language": "python",
   "name": "python3"
  },
  "language_info": {
   "codemirror_mode": {
    "name": "ipython",
    "version": 3
   },
   "file_extension": ".py",
   "mimetype": "text/x-python",
   "name": "python",
   "nbconvert_exporter": "python",
   "pygments_lexer": "ipython3",
   "version": "3.7.6"
  }
 },
 "nbformat": 4,
 "nbformat_minor": 4
}
